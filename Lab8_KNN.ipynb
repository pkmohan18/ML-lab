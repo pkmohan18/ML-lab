{
 "cells": [
  {
   "cell_type": "code",
   "execution_count": 2,
   "metadata": {},
   "outputs": [
    {
     "name": "stdout",
     "output_type": "stream",
     "text": [
      "ACCURACY of KNN: 0.9736842105263158\n",
      "Confusion Matrix for KNN:\n",
      " [[13  0  0]\n",
      " [ 0 15  1]\n",
      " [ 0  0  9]]\n"
     ]
    },
    {
     "data": {
      "text/plain": [
       "[<matplotlib.lines.Line2D at 0x235bd09f948>,\n",
       " <matplotlib.lines.Line2D at 0x235bcef7b88>,\n",
       " <matplotlib.lines.Line2D at 0x235bd0eb648>,\n",
       " <matplotlib.lines.Line2D at 0x235bd0eb888>]"
      ]
     },
     "execution_count": 2,
     "metadata": {},
     "output_type": "execute_result"
    },
    {
     "data": {
      "image/png": "[encoded data removed]",
      "text/plain": [
       "<Figure size 432x288 with 1 Axes>"
      ]
     },
     "metadata": {
      "needs_background": "light"
     },
     "output_type": "display_data"
    }
   ],
   "source": [
    "from sklearn.datasets import load_iris \n",
    "from sklearn.neighbors import KNeighborsClassifier \n",
    "from sklearn.model_selection import train_test_split   #if it didn't work, replace sklearn.model_selection with sklearn.cross_validation\n",
    "import matplotlib.pyplot as plt\n",
    "#%matplotlib inline                   #this is to plot the graphs in this Jupyter notebook, but not outside of it\n",
    "\n",
    "iris_dataset=load_iris() \n",
    "X_train, X_test, y_train, y_test = train_test_split(iris_dataset[\"data\"], iris_dataset[\"target\"], random_state=0) #By default Train:Test ratio is 3:1\n",
    "\n",
    "kn = KNeighborsClassifier()\n",
    "kn.fit(X_train, y_train)\n",
    "prediction = kn.predict(X_test)\n",
    "\n",
    "import sklearn.metrics as sm\n",
    "print('ACCURACY of KNN:',sm.accuracy_score(y_test,prediction))\n",
    "print('Confusion Matrix for KNN:\\n',sm.confusion_matrix(y_test,prediction))   #Confusion matrix for Data Samples in y_test \n",
    "\n",
    "plt.plot(X_test,y_test,'ro')        #red colored circles represent Actual Data\n",
    "plt.plot(X_test,prediction,'b+')    #Blue colored plus represent Predicted Data"
   ]
  },
  {
   "cell_type": "code",
   "execution_count": 3,
   "metadata": {
    "scrolled": false
   },
   "outputs": [
    {
     "name": "stdout",
     "output_type": "stream",
     "text": [
      "Classification Results are:\n",
      "\n",
      "Sample: [5.8 2.8 5.1 2.4]  Actual label: 2  Predicted label: 2\n",
      "Sample: [6.  2.2 4.  1. ]  Actual label: 1  Predicted label: 1\n",
      "Sample: [5.5 4.2 1.4 0.2]  Actual label: 0  Predicted label: 0\n",
      "Sample: [7.3 2.9 6.3 1.8]  Actual label: 2  Predicted label: 2\n",
      "Sample: [5.  3.4 1.5 0.2]  Actual label: 0  Predicted label: 0\n",
      "Sample: [6.3 3.3 6.  2.5]  Actual label: 2  Predicted label: 2\n",
      "Sample: [5.  3.5 1.3 0.3]  Actual label: 0  Predicted label: 0\n",
      "Sample: [6.7 3.1 4.7 1.5]  Actual label: 1  Predicted label: 1\n",
      "Sample: [6.8 2.8 4.8 1.4]  Actual label: 1  Predicted label: 1\n",
      "Sample: [6.1 2.8 4.  1.3]  Actual label: 1  Predicted label: 1\n",
      "Sample: [6.1 2.6 5.6 1.4]  Actual label: 2  Predicted label: 2\n",
      "Sample: [6.4 3.2 4.5 1.5]  Actual label: 1  Predicted label: 1\n",
      "Sample: [6.1 2.8 4.7 1.2]  Actual label: 1  Predicted label: 1\n",
      "Sample: [6.5 2.8 4.6 1.5]  Actual label: 1  Predicted label: 1\n",
      "Sample: [6.1 2.9 4.7 1.4]  Actual label: 1  Predicted label: 1\n",
      "Sample: [4.9 3.6 1.4 0.1]  Actual label: 0  Predicted label: 0\n",
      "Sample: [6.  2.9 4.5 1.5]  Actual label: 1  Predicted label: 1\n",
      "Sample: [5.5 2.6 4.4 1.2]  Actual label: 1  Predicted label: 1\n",
      "Sample: [4.8 3.  1.4 0.3]  Actual label: 0  Predicted label: 0\n",
      "Sample: [5.4 3.9 1.3 0.4]  Actual label: 0  Predicted label: 0\n",
      "Sample: [5.6 2.8 4.9 2. ]  Actual label: 2  Predicted label: 2\n",
      "Sample: [5.6 3.  4.5 1.5]  Actual label: 1  Predicted label: 1\n",
      "Sample: [4.8 3.4 1.9 0.2]  Actual label: 0  Predicted label: 0\n",
      "Sample: [4.4 2.9 1.4 0.2]  Actual label: 0  Predicted label: 0\n",
      "Sample: [6.2 2.8 4.8 1.8]  Actual label: 2  Predicted label: 2\n",
      "Sample: [4.6 3.6 1.  0.2]  Actual label: 0  Predicted label: 0\n",
      "Sample: [5.1 3.8 1.9 0.4]  Actual label: 0  Predicted label: 0\n",
      "Sample: [6.2 2.9 4.3 1.3]  Actual label: 1  Predicted label: 1\n",
      "Sample: [5.  2.3 3.3 1. ]  Actual label: 1  Predicted label: 1\n",
      "Sample: [5.  3.4 1.6 0.4]  Actual label: 0  Predicted label: 0\n",
      "Sample: [6.4 3.1 5.5 1.8]  Actual label: 2  Predicted label: 2\n",
      "Sample: [5.4 3.  4.5 1.5]  Actual label: 1  Predicted label: 1\n",
      "Sample: [5.2 3.5 1.5 0.2]  Actual label: 0  Predicted label: 0\n",
      "Sample: [6.1 3.  4.9 1.8]  Actual label: 2  Predicted label: 2\n",
      "Sample: [6.4 2.8 5.6 2.2]  Actual label: 2  Predicted label: 2\n",
      "Sample: [5.2 2.7 3.9 1.4]  Actual label: 1  Predicted label: 1\n",
      "Sample: [5.7 3.8 1.7 0.3]  Actual label: 0  Predicted label: 0\n",
      "Sample: [6.  2.7 5.1 1.6]  Actual label: 1  Predicted label: 2\n"
     ]
    }
   ],
   "source": [
    "#To check detailed info about the predicted data and the actual data of X_TEST \n",
    "y_pred = kn.predict(X_test)\n",
    "print(\"Classification Results are:\\n\")\n",
    "for i in range(0,len(X_test)):\n",
    "    print(\"Sample:\", str(X_test[i]), \" Actual label:\", str(y_test[i]),\" Predicted label:\", str(y_pred[i]))"
   ]
  },
  {
   "cell_type": "code",
   "execution_count": null,
   "metadata": {
    "collapsed": true
   },
   "outputs": [],
   "source": []
  }
 ],
 "metadata": {
  "anaconda-cloud": {},
  "kernelspec": {
   "display_name": "Python 3",
   "language": "python",
   "name": "python3"
  },
  "language_info": {
   "codemirror_mode": {
    "name": "ipython",
    "version": 3
   },
   "file_extension": ".py",
   "mimetype": "text/x-python",
   "name": "python",
   "nbconvert_exporter": "python",
   "pygments_lexer": "ipython3",
   "version": "3.7.4"
  }
 },
 "nbformat": 4,
 "nbformat_minor": 1
}
