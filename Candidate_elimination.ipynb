{
 "cells": [
  {
   "cell_type": "code",
   "execution_count": 8,
   "metadata": {},
   "outputs": [
    {
     "name": "stdout",
     "output_type": "stream",
     "text": [
      "Final specific:\n",
      "['sunny', 'warm', '?', 'strong', '?', '?']\n",
      "Final general:\n",
      "[['sunny', '?', '?', '?', '?', '?'], ['?', 'warm', '?', '?', '?', '?']]\n"
     ]
    }
   ],
   "source": [
    "import csv\n",
    "file=open('lab1.csv')\n",
    "data=list(csv.reader(file))[1:]\n",
    "concepts=[]\n",
    "target=[]\n",
    "for i in data:\n",
    "    concepts.append(i[:-1])\n",
    "    target.append(i[-1])\n",
    "specific_h=['0']*len(concepts[0])\n",
    "general_h=[['?' for i in range(len(specific_h))] for i in range(len(specific_h))]\n",
    "for i,instance in enumerate(concepts):\n",
    "    if target[i]==\"yes\":\n",
    "        for x in range(len(specific_h)):\n",
    "            if specific_h[x]=='0':\n",
    "                specific_h[x]=instance[x]\n",
    "            elif instance[x]!=specific_h[x]:\n",
    "                specific_h[x]='?'\n",
    "                general_h[x][x]='?'\n",
    "    if target[i]==\"no\":\n",
    "        for x in range(len(specific_h)):\n",
    "            if instance[x]!=specific_h[x]:\n",
    "                general_h[x][x]=specific_h[x]\n",
    "            else:\n",
    "                general_h[x][x]='?'\n",
    "indices=[i for i,val in enumerate(general_h) if val==['?','?','?','?','?','?']]\n",
    "for i in indices:\n",
    "    general_h.remove(['?','?','?','?','?','?'])\n",
    "print(\"Final specific:\",specific_h,sep=\"\\n\")\n",
    "print(\"Final general:\",general_h,sep=\"\\n\")"
   ]
  }
 ],
 "metadata": {
  "kernelspec": {
   "display_name": "Python 3",
   "language": "python",
   "name": "python3"
  },
  "language_info": {
   "codemirror_mode": {
    "name": "ipython",
    "version": 3
   },
   "file_extension": ".py",
   "mimetype": "text/x-python",
   "name": "python",
   "nbconvert_exporter": "python",
   "pygments_lexer": "ipython3",
   "version": "3.5.6"
  }
 },
 "nbformat": 4,
 "nbformat_minor": 2
}
