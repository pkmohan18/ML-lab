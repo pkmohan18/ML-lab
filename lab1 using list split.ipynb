{
 "cells": [
  {
   "cell_type": "code",
   "execution_count": 13,
   "metadata": {},
   "outputs": [
    {
     "name": "stdout",
     "output_type": "stream",
     "text": [
      "Instances:\n",
      " [['sunny', 'warm', 'Normal', 'strong', 'warm', 'same'], ['sunny', 'warm', 'High', 'strong', 'warm', 'same'], ['Rainy', 'cool', 'High', 'strong', 'warm', 'Change'], ['sunny', 'warm', 'High', 'strong', 'cool', 'Change']]\n",
      "Target:\n",
      " ['yes', 'yes', 'no', 'yes']\n",
      "Hypothesis:\n",
      " ['sunny', 'warm', '?', 'strong', '?', '?']\n"
     ]
    }
   ],
   "source": [
    "import csv\n",
    "file=open('lab1data.csv')\n",
    "data=list(csv.reader(file))\n",
    "data.pop(0)\n",
    "inst=[]\n",
    "target=[]\n",
    "for row in data:\n",
    "    target.append(row[-1])\n",
    "    inst.append(row[:-1])\n",
    "print(\"Instances:\\n\",inst)\n",
    "print(\"Target:\\n\",target)\n",
    "l=len(inst[0])\n",
    "h=['0']*l\n",
    "for i in range(len(inst)):\n",
    "    if target[i]=='yes':\n",
    "        for j in range(l):\n",
    "            if h[j]=='0':\n",
    "                h[j]=inst[i][j]\n",
    "            if h[j]!=inst[i][j]:\n",
    "                h[j]='?'\n",
    "print(\"Hypothesis:\\n\",h)"
   ]
  },
  {
   "cell_type": "code",
   "execution_count": null,
   "metadata": {},
   "outputs": [],
   "source": []
  }
 ],
 "metadata": {
  "kernelspec": {
   "display_name": "Python 3",
   "language": "python",
   "name": "python3"
  },
  "language_info": {
   "codemirror_mode": {
    "name": "ipython",
    "version": 3
   },
   "file_extension": ".py",
   "mimetype": "text/x-python",
   "name": "python",
   "nbconvert_exporter": "python",
   "pygments_lexer": "ipython3",
   "version": "3.5.6"
  }
 },
 "nbformat": 4,
 "nbformat_minor": 2
}
