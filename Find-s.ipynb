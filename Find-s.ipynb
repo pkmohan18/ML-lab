{
 "cells": [
  {
   "cell_type": "code",
   "execution_count": 2,
   "metadata": {},
   "outputs": [
    {
     "name": "stdout",
     "output_type": "stream",
     "text": [
      "Initial hypothesis: ['0', '0', '0', '0', '0', '0']\n",
      "Data:\n",
      "['sky', 'airtemp', 'humidity', 'wind', 'water', 'forecast', 'enjoy sport']\n",
      "['sunny', 'warm', 'Normal', 'strong', 'warm', 'same', 'yes']\n",
      "['sunny', 'warm', 'High', 'strong', 'warm', 'same', 'yes']\n",
      "['Rainy', 'cool', 'High', 'strong', 'warm', 'Change', 'no']\n",
      "['sunny', 'warm', 'High', 'strong', 'cool', 'Change', 'yes']\n",
      "\n",
      "Final hypothesis: ['sunny', 'warm', '?', 'strong', '?', '?']\n"
     ]
    }
   ],
   "source": [
    "import csv\n",
    "file=open('lab1data.csv')\n",
    "data=list(csv.reader(file))\n",
    "length=len(data[0])-1\n",
    "h=['0']*length\n",
    "print(\"Initial hypothesis:\",h)\n",
    "print(\"Data:\")\n",
    "for i in data:\n",
    "    print(i)\n",
    "data.pop(0)\n",
    "for i in range(len(data)):\n",
    "    if data[i][length]=='yes':\n",
    "        for j in range(len(data[i])-1):\n",
    "            if h[j]=='0':\n",
    "                h[j]=data[i][j]\n",
    "            if h[j]!=data[i][j]:\n",
    "                h[j]='?'\n",
    "print(\"\\nFinal hypothesis:\",h)"
   ]
  },
  {
   "cell_type": "code",
   "execution_count": null,
   "metadata": {},
   "outputs": [],
   "source": []
  }
 ],
 "metadata": {
  "kernelspec": {
   "display_name": "Python 3",
   "language": "python",
   "name": "python3"
  },
  "language_info": {
   "codemirror_mode": {
    "name": "ipython",
    "version": 3
   },
   "file_extension": ".py",
   "mimetype": "text/x-python",
   "name": "python",
   "nbconvert_exporter": "python",
   "pygments_lexer": "ipython3",
   "version": "3.5.6"
  }
 },
 "nbformat": 4,
 "nbformat_minor": 2
}
